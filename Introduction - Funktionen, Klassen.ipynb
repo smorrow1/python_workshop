{
 "cells": [
  {
   "cell_type": "markdown",
   "metadata": {},
   "source": [
    "# 4. Funktionen\n",
    "\n",
    "\n",
    "Eine Funktion ist ein Codeblock, der nur ausgeführt wird, wenn er explizit aufgerufen wird. <br>\n",
    "\n",
    "Einer Funktion können Daten, auch benannt als Parameter mitgegeben werden, die dann in der Funktion weiterverarbeitet werden.<br>\n",
    "\n",
    "Eine Funktion benötigt immer eine Ausgabe, auch wenn diese leer ist. <br>"
   ]
  },
  {
   "cell_type": "code",
   "execution_count": null,
   "metadata": {},
   "outputs": [],
   "source": [
    "def meine_erste_funktion():\n",
    "    print(\"Hallo, dies ist meine erste Funktion\")"
   ]
  },
  {
   "cell_type": "markdown",
   "metadata": {},
   "source": [
    "## Funktion das erste Mal aufrufen"
   ]
  },
  {
   "cell_type": "code",
   "execution_count": null,
   "metadata": {},
   "outputs": [],
   "source": [
    "meine_erste_funktion()"
   ]
  },
  {
   "cell_type": "markdown",
   "metadata": {},
   "source": [
    "## Erstes Abändern unserer Funktion: "
   ]
  },
  {
   "cell_type": "code",
   "execution_count": null,
   "metadata": {},
   "outputs": [],
   "source": [
    "def zweite_funktion(name):\n",
    "    print(\"Hallo \" + name)\n",
    "    \n",
    "zweite_funktion(\"Tobi\")\n",
    "\n",
    "def meine_funktion(vname, nname): \n",
    "    print(\"Hallo \" + vname + \" \" + nname)\n",
    "    \n",
    "meine_funktion(\"Tobi\", \"Schneider\")"
   ]
  },
  {
   "cell_type": "markdown",
   "metadata": {},
   "source": [
    "## Docstring\n",
    "\n",
    "Wenn Zeichenfolgenliterale unmittelbar nach der Definition einer Funktion, eines Moduls, einer Klasse oder einer Methode vorhanden sind, werden sie dem Objekt als **__doc__-Attribut** zugeordnet. <br>\n",
    "Wir können dieses Attribut später verwenden, um den doc-String abzurufen."
   ]
  },
  {
   "cell_type": "markdown",
   "metadata": {},
   "source": [
    "Kurzer Reminder zu Kommentaren:\n",
    "    \n",
    "```python3 \n",
    "# Single line Kommentar\n",
    "\"Single line Kommentar\"\n",
    "```"
   ]
  },
  {
   "cell_type": "code",
   "execution_count": null,
   "metadata": {},
   "outputs": [],
   "source": [
    "def doc_funktion():\n",
    "    '''Hier erkläre ich, was meine Funktion für tolle Funktionen hat'''\n",
    "    return Null\n",
    "\n",
    "print(doc_funktion.__doc__)"
   ]
  },
  {
   "cell_type": "markdown",
   "metadata": {},
   "source": [
    "## Rückgabewerte - Return\n",
    "\n",
    "A return statement is used to end the execution of the function call and “returns” the result (value of the expression following the return keyword) to the caller. The statements after the return statements are not executed. If the return statement is without any expression, then the special value None is returned."
   ]
  },
  {
   "cell_type": "code",
   "execution_count": null,
   "metadata": {},
   "outputs": [],
   "source": [
    "def summe(a,b):\n",
    "    print(a + b)\n",
    "\n",
    "\n",
    "def summe_2(a,b):\n",
    "    print(a + b)\n",
    "    return (a + b) "
   ]
  },
  {
   "cell_type": "code",
   "execution_count": null,
   "metadata": {},
   "outputs": [],
   "source": [
    "ohne_return = summe(10,5)\n",
    "\n",
    "#type(ohne_return)"
   ]
  },
  {
   "cell_type": "code",
   "execution_count": null,
   "metadata": {},
   "outputs": [],
   "source": [
    "mit_return = summe_2(10,5)\n",
    "\n",
    "#type(mit_return)"
   ]
  },
  {
   "cell_type": "markdown",
   "metadata": {},
   "source": [
    "### Note: Es können auch mehrere Rückgabewerte innerhalb einer Funktion gesetzt werden, wenn diese per Komma getrennt werden\n",
    "```python\n",
    "return a,b\n",
    "```\n"
   ]
  },
  {
   "cell_type": "markdown",
   "metadata": {},
   "source": [
    "## Rekursion - Rekursive Funktionen\n",
    "\n",
    "Die Rekursion ist eine Programmiertechnik oder Programmierkonzept, indem eine Funktion sich selbst ein \n",
    "oder mehrmals in ihrem Funktionskörper (body) aufruft. Eine Funktionsdefinition, die die Bedingungen der Rekursion erfüllt,\n",
    "nennen wir eine rekursive Funktion.\n",
    "\n",
    "--> Benötigt eine Abbruchbedingung damit die Funktion terminieren kann\n"
   ]
  },
  {
   "cell_type": "code",
   "execution_count": null,
   "metadata": {},
   "outputs": [],
   "source": [
    "def factorial(n):\n",
    "    if n == 1:\n",
    "        return 1\n",
    "    else:\n",
    "        return n * factorial(n-1)"
   ]
  },
  {
   "cell_type": "code",
   "execution_count": null,
   "metadata": {},
   "outputs": [],
   "source": [
    "factorial(3)"
   ]
  },
  {
   "cell_type": "markdown",
   "metadata": {},
   "source": [
    "## Aufgabe\n",
    "\n",
    "Schreibe eine rekursive Funktion, die die Vielfachen von 3 berechnet. Also $f(n) = 3*n$"
   ]
  },
  {
   "cell_type": "code",
   "execution_count": null,
   "metadata": {},
   "outputs": [],
   "source": []
  },
  {
   "cell_type": "code",
   "execution_count": null,
   "metadata": {},
   "outputs": [],
   "source": []
  },
  {
   "cell_type": "markdown",
   "metadata": {},
   "source": [
    "## Funktionen mit beliebigen (arbitrary) Argumenten, *args\n",
    "\n",
    "\n",
    "--> Wenn du nicht weißt, wie viele Argumente in der Funktion auftreten werden, dann füge ein * vor den Parameternamen in der Funktionsdefinition. "
   ]
  },
  {
   "cell_type": "code",
   "execution_count": null,
   "metadata": {},
   "outputs": [],
   "source": [
    "def blg_funktion(*args):\n",
    "    print(\"Der zweite Name ist \" + args[1])\n",
    "    \n",
    "blg_funktion(\"Niko\", \"Michael\", \"Susanne\", \"Werner\")"
   ]
  },
  {
   "cell_type": "code",
   "execution_count": null,
   "metadata": {},
   "outputs": [],
   "source": [
    "def multiply(*args):\n",
    "    z = 1\n",
    "    for num in args: \n",
    "        z *= num\n",
    "    print(z)\n",
    "    \n",
    "multiply(2,6)\n",
    "multiply(2,6,4)"
   ]
  },
  {
   "cell_type": "markdown",
   "metadata": {},
   "source": [
    "## KWARGS (Keyword Arguments)\n",
    "\n",
    "Das doppelte Sternchen von \\*\\*kwargs wird verwendet, um ein keyworded Argument mit variabler Länge an eine Funktion zu übergeben. Auch hier sind die beiden Sternchen (\\*\\*) das wichtige Element, da das Wort kwargs herkömmlicherweise verwendet wird, obwohl es von der Sprache nicht erzwungen wird.\n",
    "\n",
    "Wie \\*args können \\*\\*kwargs so viele Argumente annehmen wie gewollt. \\*\\*Kwargs unterscheidet sich jedoch von \\*args darin, dass Schlüsselwörter zugewiesen werden müssen."
   ]
  },
  {
   "cell_type": "code",
   "execution_count": null,
   "metadata": {},
   "outputs": [],
   "source": [
    "def print_kwargs(**kwargs):\n",
    "    print(kwargs)\n",
    "\n",
    "print_kwargs(kwargs_1=\"Shark\", kwargs_2=4.5, kwargs_3=True)"
   ]
  },
  {
   "cell_type": "markdown",
   "metadata": {},
   "source": [
    "**Es ist wichtig zu beachten, dass ein Wörterbuch namens kwargs erstellt wird und wir damit genauso arbeiten können wie mit anderen Dictionaries.** \n",
    "\n",
    "Hier noch ein kurzes Programm, um zu zeigen, wie wir \\*\\*kwargs verwenden können. Wir erstellen eine Funktion zum Begrüßen eines Dictionaries mit Namen. Zunächst beginnen wir mit einem Dictionary mit zwei Namen:"
   ]
  },
  {
   "cell_type": "code",
   "execution_count": null,
   "metadata": {},
   "outputs": [],
   "source": [
    "def print_values(**kwargs):\n",
    "    for key, value in kwargs.items():\n",
    "        print(\"Unsere Teilnehmer sind heute: {} {}\".format(key, value))\n",
    "        \n",
    "    print(\"\\n\")    \n",
    "    \n",
    "    for key in kwargs.items():\n",
    "        print(\"Folgende Positionen sind vertreten {}\".format(key[0]))\n",
    "\n",
    "print_values(Projektleiter=\"Sammy\", Sachbearbeiter=\"Casey\")"
   ]
  },
  {
   "cell_type": "markdown",
   "metadata": {},
   "source": [
    "Die Verwendung von \\*\\*kwargs bietet uns Flexibilität bei der Verwendung von Schlüsselwortargumenten in unserem Programm. Wenn wir \\*\\*kwargs als Parameter verwenden, müssen wir nicht wissen, wie viele Argumente wir eventuell an eine Funktion übergeben möchten."
   ]
  },
  {
   "cell_type": "markdown",
   "metadata": {},
   "source": [
    "# 5. Klassen\n",
    "\n",
    "Python ist eine OOP (Objektorientierte Programmiersprache). <br>\n",
    "\n",
    "\n",
    "Grundkonzept von Klassen ist Folgendes: <br>\n",
    "\n",
    "- Daten und deren Funktionen (Methoden) werden in einem Objekt zusammengefasst und nach außen gekapselt, damit Benutzer der Klassen diese Daten nicht manipulieren können. \n",
    "\n",
    "- Objekte werden über Klassen definiert --> Klasse dient als Vorlage, bzw. \"Bauplan\" nach denen Objekte erzeugt werden. "
   ]
  },
  {
   "cell_type": "code",
   "execution_count": null,
   "metadata": {},
   "outputs": [],
   "source": [
    "class Kuchen():\n",
    "    def __init__(self, name, zucker):\n",
    "        self.name = name\n",
    "        self.zucker = int(zucker)\n",
    "        \n",
    "    def add_sugar(self, gramm):\n",
    "        print(\"Vorher: \", self.zucker, \"Gramm Zucker\")\n",
    "        self.zucker += int(gramm) \n",
    "        print(\"\\n\", \"Jetzt: \", self.zucker, \"Gramm Zucker\")\n",
    "        \n",
    "    def sub_sugar(self, gramm):\n",
    "        print(\"Vorher: \", self.zucker, \"Gramm Zucker\")\n",
    "        self.zucker -= int(gramm)\n",
    "        print(\"\\n\", \"Jetzt: \", self.zucker, \"Gramm Zucker\")\n",
    "        \n",
    "    def which_cake(self):\n",
    "        print(\"Dieser Kuchen heißt: \", self.name)\n",
    "        \n",
    "        \n",
    "\n",
    "mein_kuchen = Kuchen(\"Apfelkuchen\", 1000)"
   ]
  },
  {
   "cell_type": "code",
   "execution_count": null,
   "metadata": {},
   "outputs": [],
   "source": [
    "# Aufrufen der Funktion innerhalb der Klasse\n",
    "\n",
    "mein_kuchen.add_sugar(100)"
   ]
  },
  {
   "cell_type": "code",
   "execution_count": null,
   "metadata": {},
   "outputs": [],
   "source": [
    "# Aufrufen der zugewiesenen Werte innerhalb der Klasse\n",
    "\n",
    "mein_kuchen.zucker"
   ]
  },
  {
   "cell_type": "code",
   "execution_count": null,
   "metadata": {},
   "outputs": [],
   "source": [
    "# Initialisiert eine neue Kuchenklasse und lasst euch den Namen ausgeben \n",
    "a = Kuchen(\"Käsekuchen\", 500)\n",
    "a.which_cake()"
   ]
  },
  {
   "cell_type": "markdown",
   "metadata": {},
   "source": [
    "## Konstruktor \n",
    "\n",
    "Genaugenommen gibt es in Python keine expliziten Konstruktoren oder Destruktoren. Häufig wird die __init__-Methode als Konstruktor bezeichnet. Wäre sie wirklich ein Konstruktor, würde sie wahrscheinlich __constr__ oder __constructor__ heißen. Sie heißt stattdessen __init__, weil mit dieser Methode ein Objekt, welcher vorher automatisch erzeugt (\"konstruiert\") worden ist, initialisiert wird. Diese Methode wird also unmittelbar nach der Konstruktion eines Objektes aufgerufen. Es wirkt also so, als würde das Objekt durch __init__ erzeugt. Dies erklärt den häufig gemachten Fehler in der Bezeichnungsweise."
   ]
  },
  {
   "cell_type": "code",
   "execution_count": null,
   "metadata": {},
   "outputs": [],
   "source": [
    "class Kuchen():\n",
    "    def __init__(self, name, zucker):\n",
    "        self.name = name\n",
    "        self.zucker = int(zucker)"
   ]
  },
  {
   "cell_type": "markdown",
   "metadata": {},
   "source": [
    "## Datenkapselung\n",
    "\n",
    "Normalerweise sind alle Attribute einer Klasseninstanz öffentlich, d.h. von außen zugänglich. Python bietet einen Mechanismus um dies zu verhindern. Die Steuerung erfolgt nicht über irgendwelchen speziellen Schlüsselworte sondern über die Namen, d.h. einfacher dem eigentlichen Namen vorgestellter Unterstrich für den protected und zweifacher vorgestellter Unterstrich für private, wie man der folgenden Tabelle entnehmen kann:\n",
    "\n",
    "\n",
    "**name**\t  <font color='green'>Public</font>  *Attribute ohne führende Unterstriche sind sowohl innerhalb einer Klasse als auch von außen les- und schreibbar.* <br>\n",
    "**_name**\t<font color='orange'>Protected</font>     Man kann zwar auch von außen lesend und schreibend zugreifen, aber diese Member sollten nicht benutzen werden. <br>\n",
    "**__name**\t<font color='red'>Private</font>       Sind von außen nicht sichtbar und nicht benutzbar. <br>"
   ]
  },
  {
   "cell_type": "markdown",
   "metadata": {},
   "source": [
    "## Aufgabe\n",
    "\n",
    "1. Baue ein Klassenobjekt, dass ein mit den Werten 1. Inhaber, 2. Kontonummer, 3. Kontostand initialisiert wird. \n",
    "2. Mache die Variable Kontostand privat, sodass man von außen nicht darauf zugreifen kann.\n",
    "3. Schreibe eine Methode, die Inhaber und Kontonummer der Instanz ausgibt. \n"
   ]
  },
  {
   "cell_type": "code",
   "execution_count": null,
   "metadata": {},
   "outputs": [],
   "source": [
    "class Konto(object): \n",
    "\n",
    "    def __init__(self): \n",
    "        pass\n",
    "        \n",
    "    def zugehoerig_zu(self):\n",
    "        pass"
   ]
  }
 ],
 "metadata": {
  "kernelspec": {
   "display_name": "Python 3 (ipykernel)",
   "language": "python",
   "name": "python3"
  },
  "language_info": {
   "codemirror_mode": {
    "name": "ipython",
    "version": 3
   },
   "file_extension": ".py",
   "mimetype": "text/x-python",
   "name": "python",
   "nbconvert_exporter": "python",
   "pygments_lexer": "ipython3",
   "version": "3.9.12"
  }
 },
 "nbformat": 4,
 "nbformat_minor": 4
}
