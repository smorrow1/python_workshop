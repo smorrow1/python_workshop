{
 "cells": [
  {
   "cell_type": "markdown",
   "metadata": {},
   "source": [
    "# 4. Funktionen\n",
    "\n",
    "\n",
    "Eine Funktion ist ein Codeblock, der nur ausgeführt wird, wenn er explizit aufgerufen wird. <br>\n",
    "\n",
    "Einer Funktion können Daten, auch benannt als Parameter mitgegeben werden, die dann in der Funktion weiterverarbeitet werden.<br>\n",
    "\n",
    "Eine Funktion benötigt immer eine Ausgabe, auch wenn diese leer ist. <br>"
   ]
  },
  {
   "cell_type": "code",
   "execution_count": 1,
   "metadata": {},
   "outputs": [],
   "source": [
    "def meine_erste_funktion():\n",
    "    print(\"Hallo, dies ist meine erste Funktion\")"
   ]
  },
  {
   "cell_type": "code",
   "execution_count": 2,
   "metadata": {},
   "outputs": [
    {
     "name": "stdout",
     "output_type": "stream",
     "text": [
      "Hallo, dies ist meine erste Funktion\n"
     ]
    }
   ],
   "source": [
    "# Funktion das erste Mal aufrufen\n",
    "\n",
    "meine_erste_funktion()"
   ]
  },
  {
   "cell_type": "markdown",
   "metadata": {},
   "source": [
    "Erstes Abändern unserer Funktion: "
   ]
  },
  {
   "cell_type": "code",
   "execution_count": 6,
   "metadata": {},
   "outputs": [
    {
     "name": "stdout",
     "output_type": "stream",
     "text": [
      "Hallo Tobi\n",
      "Hallo Tobi Frühauf\n"
     ]
    }
   ],
   "source": [
    "def zweite_funktion(name):\n",
    "    print(\"Hallo \" + name)\n",
    "    \n",
    "zweite_funktion(\"Tobi\")\n",
    "\n",
    "def meine_funktion(vname, nname): \n",
    "    print(\"Hallo \" + vname + \" \" + nname)\n",
    "    \n",
    "meine_funktion(\"Tobi\", \"Frühauf\")"
   ]
  },
  {
   "cell_type": "markdown",
   "metadata": {},
   "source": [
    "Funktionen mit beliebigen (arbitrary) Argumenten, *args\n",
    "\n",
    "\n",
    "--> Wenn du nicht weißt, wie viele Argumente in der Funktion auftreten werden, dann füge ein * vor den Parameternamen in der Funktionsdefinition. "
   ]
  },
  {
   "cell_type": "code",
   "execution_count": 3,
   "metadata": {},
   "outputs": [
    {
     "name": "stdout",
     "output_type": "stream",
     "text": [
      "Der zweite Name ist Michael\n",
      "\n",
      "\n",
      "12\n"
     ]
    }
   ],
   "source": [
    "def blg_funktion(*args):\n",
    "    print(\"Der zweite Name ist \" + args[1])\n",
    "    \n",
    "blg_funktion(\"Niko\", \"Michael\", \"Susanne\", \"Werner\")\n",
    "\n",
    "\n",
    "print(\"\\n\")\n",
    "\n",
    "\n",
    "def multiply(x,y):\n",
    "    print(x * y)  \n",
    "    \n",
    "multiply(2,6)\n",
    "#multiply(2,6,4)"
   ]
  },
  {
   "cell_type": "code",
   "execution_count": 4,
   "metadata": {},
   "outputs": [
    {
     "name": "stdout",
     "output_type": "stream",
     "text": [
      "12\n",
      "48\n"
     ]
    }
   ],
   "source": [
    "def multiply(*args):\n",
    "    z = 1\n",
    "    for num in args: \n",
    "        z *= num\n",
    "    print(z)\n",
    "    \n",
    "multiply(2,6)\n",
    "multiply(2,6,4)"
   ]
  },
  {
   "cell_type": "markdown",
   "metadata": {},
   "source": [
    "KWARGS (Keyword Arguments)\n",
    "\n",
    "\n",
    "The double asterisk form of **kwargs is used to pass a keyworded, variable-length argument dictionary to a function. Again, the two asterisks (**) are the important element here, as the word kwargs is conventionally used, though not enforced by the language.\n",
    "\n",
    "Like *args, **kwargs can take however many arguments you would like to supply to it. However, **kwargs differs from *args in that you will need to assign keywords."
   ]
  },
  {
   "cell_type": "code",
   "execution_count": 21,
   "metadata": {},
   "outputs": [
    {
     "name": "stdout",
     "output_type": "stream",
     "text": [
      "{'kwargs_1': 'Shark', 'kwargs_2': 4.5, 'kwargs_3': True}\n"
     ]
    }
   ],
   "source": [
    "def print_kwargs(**kwargs):\n",
    "        print(kwargs)\n",
    "\n",
    "print_kwargs(kwargs_1=\"Shark\", kwargs_2=4.5, kwargs_3=True)"
   ]
  },
  {
   "cell_type": "markdown",
   "metadata": {},
   "source": [
    "What is important to note is that a dictionary called kwargs is created and we can work with it just like we can work with other dictionaries.\n",
    "\n",
    "Let’s create another short program to show how we can make use of **kwargs. Here we’ll create a function to greet a dictionary of names. First, we’ll start with a dictionary of two names:"
   ]
  },
  {
   "cell_type": "code",
   "execution_count": 82,
   "metadata": {},
   "outputs": [
    {
     "name": "stdout",
     "output_type": "stream",
     "text": [
      "The value of my_name is Sammy\n",
      "The value of your_name is Casey\n"
     ]
    }
   ],
   "source": [
    "def print_values(**kwargs):\n",
    "    for key, value in kwargs.items():\n",
    "        print(\"The value of {} is {}\".format(key, value))\n",
    "\n",
    "print_values(my_name=\"Sammy\", your_name=\"Casey\")\n",
    "\n",
    "\n",
    "dies_ist_eine_variable = 1 "
   ]
  },
  {
   "cell_type": "code",
   "execution_count": null,
   "metadata": {},
   "outputs": [],
   "source": []
  },
  {
   "cell_type": "markdown",
   "metadata": {},
   "source": [
    "Using **kwargs provides us with flexibility to use keyword arguments in our program. When we use **kwargs as a parameter, we don’t need to know how many arguments we would eventually like to pass to a function."
   ]
  },
  {
   "cell_type": "code",
   "execution_count": null,
   "metadata": {},
   "outputs": [],
   "source": []
  },
  {
   "cell_type": "markdown",
   "metadata": {},
   "source": [
    "# 5. Klassen\n",
    "\n",
    "Python ist eine OOP (Objektorientierte Programmiersprache). <br>\n",
    "\n",
    "\n",
    "Grundkonzept von Klassen ist Folgendes: <br>\n",
    "\n",
    "- Daten und deren Funktionen (Methoden) werden in einem Objekt zusammengefasst und nach außen gekapselt, damit Benutzer der Klassen diese Daten nicht manipulieren können. \n",
    "\n",
    "- Objekte werden über Klassen definiert --> Klasse dient als Vorlage, bzw. \"Bauplan\" nach denen Objekte erzeugt werden. "
   ]
  },
  {
   "cell_type": "code",
   "execution_count": 28,
   "metadata": {},
   "outputs": [],
   "source": [
    "class Kuchen():\n",
    "    def __init__(self, name, zucker):\n",
    "        self.name = name\n",
    "        self.zucker = int(zucker)\n",
    "        \n",
    "    def add_sugar(self, gramm):\n",
    "        print(\"Vorher: \", self.zucker, \"Gramm Zucker\")\n",
    "        self.zucker += int(gramm) \n",
    "        print(\"\\n\", \"Jetzt: \", self.zucker, \"Gramm Zucker\")\n",
    "        \n",
    "    def sub_sugar(self, gramm):\n",
    "        print(\"Vorher: \", self.zucker, \"Gramm Zucker\")\n",
    "        self.zucker -= int(gramm)\n",
    "        print(\"\\n\", \"Jetzt: \", self.zucker, \"Gramm Zucker\")\n",
    "        \n",
    "    def which_cake(self):\n",
    "        print(\"Dieser Kuchen heißt: \", self.name)\n",
    "        \n",
    "        \n",
    "\n",
    "mein_kuchen = Kuchen(\"Apfelkuchen\", 1000)"
   ]
  },
  {
   "cell_type": "code",
   "execution_count": 26,
   "metadata": {},
   "outputs": [
    {
     "name": "stdout",
     "output_type": "stream",
     "text": [
      "Vorher:  1000 Gramm Zucker\n",
      "\n",
      " Jetzt:  1100 Gramm Zucker\n"
     ]
    }
   ],
   "source": [
    "# Aufrufen der Funktion innerhalb der Klasse\n",
    "\n",
    "mein_kuchen.add_sugar(100)"
   ]
  },
  {
   "cell_type": "code",
   "execution_count": 27,
   "metadata": {},
   "outputs": [
    {
     "data": {
      "text/plain": [
       "1100"
      ]
     },
     "execution_count": 27,
     "metadata": {},
     "output_type": "execute_result"
    }
   ],
   "source": [
    "# Aufrufen der zugewiesenen Werte innerhalb der Klasse\n",
    "\n",
    "mein_kuchen.zucker"
   ]
  },
  {
   "cell_type": "code",
   "execution_count": 30,
   "metadata": {},
   "outputs": [
    {
     "name": "stdout",
     "output_type": "stream",
     "text": [
      "Dieser Kuchen heißt:  Käsekuchen\n"
     ]
    }
   ],
   "source": [
    "# Initialisiert eine neue Kuchenklasse und lasst euch den Namen ausgeben \n",
    "a = Kuchen(\"Käsekuchen\", 500)\n",
    "a.which_cake()"
   ]
  },
  {
   "cell_type": "code",
   "execution_count": 34,
   "metadata": {},
   "outputs": [
    {
     "data": {
      "image/png": "[encoded data removed]",
      "text/plain": [
       "<Figure size 432x288 with 1 Axes>"
      ]
     },
     "metadata": {
      "needs_background": "light"
     },
     "output_type": "display_data"
    }
   ],
   "source": [
    "import matplotlib.pyplot as plt \n",
    "\n",
    "\n",
    "class I_Love_Classes():\n",
    "    \n",
    "    def __init__(self):\n",
    "        self.i = None\n",
    "        self.j = None\n",
    "\n",
    "    def create(self, i,j):\n",
    "        self.i = i\n",
    "        self.j = j\n",
    "    \n",
    "    def mod_true_false(self,i,j):\n",
    "        self.i = i\n",
    "        self.j = j\n",
    "        if i % j == 0:\n",
    "            return 0\n",
    "        else:\n",
    "            return 1\n",
    "        \n",
    "    def addition(self, i, j):\n",
    "        self.i = i\n",
    "        self.j = j\n",
    "        return i + j\n",
    "    \n",
    "    def plot(self):\n",
    "        plt.plot(self.i,self.j)\n",
    "        plt.show()\n",
    "    \n",
    "\n",
    "dm = I_Love_Classes()\n",
    "\n",
    "dm.create(range(1,10),range(20,29))\n",
    "dm.plot()"
   ]
  },
  {
   "cell_type": "code",
   "execution_count": null,
   "metadata": {},
   "outputs": [],
   "source": []
  }
 ],
 "metadata": {
  "kernelspec": {
   "display_name": "Python 3",
   "language": "python",
   "name": "python3"
  },
  "language_info": {
   "codemirror_mode": {
    "name": "ipython",
    "version": 3
   },
   "file_extension": ".py",
   "mimetype": "text/x-python",
   "name": "python",
   "nbconvert_exporter": "python",
   "pygments_lexer": "ipython3",
   "version": "3.7.4"
  }
 },
 "nbformat": 4,
 "nbformat_minor": 2
}
