{
 "cells": [
  {
   "cell_type": "code",
   "execution_count": 1,
   "metadata": {},
   "outputs": [],
   "source": [
    "from keplergl import KeplerGl\n",
    "import pandas as pd\n",
    "import geopandas as gpd\n",
    "\n",
    "\n",
    "# Objekt initialisieren und Daten laden \n",
    "map = KeplerGl(height=800)\n",
    "map.add_data(data=df, name=\"test\")\n",
    "\n",
    "# Speichern der Konfiguration\n",
    "config = map.config\n",
    "\n",
    "# Als interaktives HTML speichern\n",
    "map.save_to_html(data={\"test\": df}, config=config, file_name=\"Foo.html\")"
   ]
  },
  {
   "cell_type": "code",
   "execution_count": 2,
   "metadata": {},
   "outputs": [
    {
     "name": "stdout",
     "output_type": "stream",
     "text": [
      "User Guide: https://github.com/keplergl/kepler.gl/blob/master/docs/keplergl-jupyter/user-guide.md\n"
     ]
    },
    {
     "data": {
      "application/vnd.jupyter.widget-view+json": {
       "model_id": "6052e4a7cbad41c8810ede2654c2354c",
       "version_major": 2,
       "version_minor": 0
      },
      "text/plain": [
       "KeplerGl(data={'cities': {'index': [0, 1, 2, 3, 4], 'columns': ['City', 'Latitude', 'Longitude'], 'data': [['B…"
      ]
     },
     "metadata": {},
     "output_type": "display_data"
    }
   ],
   "source": []
  },
  {
   "cell_type": "code",
   "execution_count": 26,
   "metadata": {},
   "outputs": [
    {
     "name": "stdout",
     "output_type": "stream",
     "text": [
      "User Guide: https://github.com/keplergl/kepler.gl/blob/master/docs/keplergl-jupyter/user-guide.md\n"
     ]
    }
   ],
   "source": []
  },
  {
   "cell_type": "code",
   "execution_count": 39,
   "metadata": {},
   "outputs": [
    {
     "name": "stdout",
     "output_type": "stream",
     "text": [
      "User Guide: https://github.com/keplergl/kepler.gl/blob/master/docs/keplergl-jupyter/user-guide.md\n"
     ]
    },
    {
     "data": {
      "text/html": [
       "<div>\n",
       "<style scoped>\n",
       "    .dataframe tbody tr th:only-of-type {\n",
       "        vertical-align: middle;\n",
       "    }\n",
       "\n",
       "    .dataframe tbody tr th {\n",
       "        vertical-align: top;\n",
       "    }\n",
       "\n",
       "    .dataframe thead th {\n",
       "        text-align: right;\n",
       "    }\n",
       "</style>\n",
       "<table border=\"1\" class=\"dataframe\">\n",
       "  <thead>\n",
       "    <tr style=\"text-align: right;\">\n",
       "      <th></th>\n",
       "      <th>Ort_ID</th>\n",
       "      <th>OrtName</th>\n",
       "      <th>Geo_data</th>\n",
       "      <th>District</th>\n",
       "      <th>lat</th>\n",
       "      <th>lon</th>\n",
       "    </tr>\n",
       "  </thead>\n",
       "  <tbody>\n",
       "    <tr>\n",
       "      <th>0</th>\n",
       "      <td>1</td>\n",
       "      <td>Agnes-Bernauer-Platz 8, 80687 MÃ¼nchen</td>\n",
       "      <td>48.139953, 11.497368</td>\n",
       "      <td>Laim</td>\n",
       "      <td>48.139953</td>\n",
       "      <td>11.497368</td>\n",
       "    </tr>\n",
       "    <tr>\n",
       "      <th>1</th>\n",
       "      <td>2</td>\n",
       "      <td>Guido-Schneble-StraÃe 70, 80689 MÃ¼nchen</td>\n",
       "      <td>48.139767, 11.497347</td>\n",
       "      <td>Laim</td>\n",
       "      <td>48.139767</td>\n",
       "      <td>11.497347</td>\n",
       "    </tr>\n",
       "    <tr>\n",
       "      <th>2</th>\n",
       "      <td>3</td>\n",
       "      <td>RheinstraÃe 3, 80803 MÃ¼nchen</td>\n",
       "      <td>48.167282, 11.585444</td>\n",
       "      <td>Schwabing</td>\n",
       "      <td>48.167282</td>\n",
       "      <td>11.585444</td>\n",
       "    </tr>\n",
       "    <tr>\n",
       "      <th>3</th>\n",
       "      <td>4</td>\n",
       "      <td>UngererstraÃe 122, 80805 MÃ¼nchen</td>\n",
       "      <td>48.172498, 11.596888</td>\n",
       "      <td>Schwabing</td>\n",
       "      <td>48.172498</td>\n",
       "      <td>11.596888</td>\n",
       "    </tr>\n",
       "    <tr>\n",
       "      <th>4</th>\n",
       "      <td>5</td>\n",
       "      <td>SchleiÃheimer Str. 263, 80809 MÃ¼nchen</td>\n",
       "      <td>48.179526, 11.567248</td>\n",
       "      <td>Schwabing</td>\n",
       "      <td>48.179526</td>\n",
       "      <td>11.567248</td>\n",
       "    </tr>\n",
       "  </tbody>\n",
       "</table>\n",
       "</div>"
      ],
      "text/plain": [
       "   Ort_ID                                    OrtName              Geo_data  \\\n",
       "0       1     Agnes-Bernauer-Platz 8, 80687 MÃ¼nchen  48.139953, 11.497368   \n",
       "1       2  Guido-Schneble-StraÃe 70, 80689 MÃ¼nchen  48.139767, 11.497347   \n",
       "2       3             RheinstraÃe 3, 80803 MÃ¼nchen  48.167282, 11.585444   \n",
       "3       4         UngererstraÃe 122, 80805 MÃ¼nchen  48.172498, 11.596888   \n",
       "4       5    SchleiÃheimer Str. 263, 80809 MÃ¼nchen  48.179526, 11.567248   \n",
       "\n",
       "    District        lat         lon  \n",
       "0       Laim  48.139953   11.497368  \n",
       "1       Laim  48.139767   11.497347  \n",
       "2  Schwabing  48.167282   11.585444  \n",
       "3  Schwabing  48.172498   11.596888  \n",
       "4  Schwabing  48.179526   11.567248  "
      ]
     },
     "execution_count": 39,
     "metadata": {},
     "output_type": "execute_result"
    }
   ],
   "source": []
  },
  {
   "cell_type": "code",
   "execution_count": 40,
   "metadata": {},
   "outputs": [
    {
     "data": {
      "application/vnd.jupyter.widget-view+json": {
       "model_id": "24d2cf041ad840029cb16dc9d25aa6c7",
       "version_major": 2,
       "version_minor": 0
      },
      "text/plain": [
       "KeplerGl(data={'Ort_ID': {'index': [0, 1, 2, 3, 4], 'columns': ['Ort_ID', 'OrtName', 'Geo_data', 'District', '…"
      ]
     },
     "metadata": {},
     "output_type": "display_data"
    }
   ],
   "source": []
  },
  {
   "cell_type": "code",
   "execution_count": null,
   "metadata": {},
   "outputs": [],
   "source": []
  },
  {
   "cell_type": "code",
   "execution_count": 32,
   "metadata": {},
   "outputs": [
    {
     "data": {
      "application/vnd.jupyter.widget-view+json": {
       "model_id": "5f33a58d411b42abb7dbe68d340c5e25",
       "version_major": 2,
       "version_minor": 0
      },
      "text/plain": [
       "KeplerGl(data={'unnamed': {'index': [0, 1, 2, 3, 4], 'columns': ['Ort_ID', 'OrtName', 'Geo_data', 'District', …"
      ]
     },
     "metadata": {},
     "output_type": "display_data"
    }
   ],
   "source": []
  },
  {
   "cell_type": "code",
   "execution_count": null,
   "metadata": {},
   "outputs": [],
   "source": []
  }
 ],
 "metadata": {
  "kernelspec": {
   "display_name": "Python 3",
   "language": "python",
   "name": "python3"
  },
  "language_info": {
   "codemirror_mode": {
    "name": "ipython",
    "version": 3
   },
   "file_extension": ".py",
   "mimetype": "text/x-python",
   "name": "python",
   "nbconvert_exporter": "python",
   "pygments_lexer": "ipython3",
   "version": "3.7.3"
  }
 },
 "nbformat": 4,
 "nbformat_minor": 2
}
