{
 "cells": [
  {
   "cell_type": "markdown",
   "metadata": {},
   "source": [
    "# 1. Datentypen"
   ]
  },
  {
   "cell_type": "markdown",
   "metadata": {},
   "source": [
    "Variablen dienen dazu, bestimmte Datentypen zu speichern und damit verschiendste Berechnungen, etc. durchzuführen. <br>\n",
    "\n",
    "Der Datentyp wird gesetzt, sobald einer Variable ein Wert zugewiesen wird. <br>\n",
    "\n",
    "```\n",
    "x = \"Hello World\" \n",
    "```<br> \n",
    "\n",
    "Python nutzt die folgenden Datentypen per default: \n",
    "\n",
    "*Text Type*:\t**str** <br>\n",
    "*Numeric Types*:\t**int, float, complex** <br>\n",
    "*Sequence Types*:\t**list, tuple, range** <br>\n",
    "*Mapping Type*:\t**dict** <br>\n",
    "*Set Types*:\t**set, frozenset** <br>\n",
    "*Boolean Typ*:\t**bool** <br>\n",
    "*Binary Types*:\t**bytes, bytearray** <br>"
   ]
  },
  {
   "cell_type": "code",
   "execution_count": 1,
   "metadata": {},
   "outputs": [
    {
     "name": "stdout",
     "output_type": "stream",
     "text": [
      "<class 'str'>\n"
     ]
    }
   ],
   "source": [
    "a = \"Hello World\"\n",
    "b = 20 \n",
    "c = 20.6\n",
    "d = 1j\n",
    "e = [\"DB\", \"Fern\", \"Verkehr\"]\n",
    "f = (\"DB\", \"Fern\", \"Verkehr\")\n",
    "g = {\"Name\" : \"David\", \"Alter\" : 40}\n",
    "h = range(7)\n",
    "i = True\n",
    "\n",
    "# Datentypen testen mit type() Funktion. Ersetze den Variablennamen, um den Datentyp ausgeben zu lassen.\n",
    "type(a)\n",
    "\n",
    "# Wenn Python nicht im Jupyter Notebook gestartet wird print() nutzen, um Output zu sehen \n",
    "print(type(a))"
   ]
  },
  {
   "cell_type": "markdown",
   "metadata": {},
   "source": [
    "Datentypen können auch spezifisch zugewiesen werden: <br>\n",
    "```python\n",
    "a = str(\"Hello World\")\n",
    "b = int(20)\n",
    "c = float(20.5)\n",
    "d = complex(1j)\n",
    "e = list((\"DB\", \"Fern\", \"Verkehr\"))\n",
    "f = tuple((\"DB\", \"Fern\", \"Verkehr\"))\n",
    "g = dict(Name=\"David\", Alter=40)\n",
    "h = range(5)\n",
    "i = bool(1)```"
   ]
  },
  {
   "cell_type": "markdown",
   "metadata": {},
   "source": [
    "## Integrierte Funktionen in Python\n",
    "\n",
    "Funktionen verarbeiten mit den in den Variablen bereits hinterlegten Daten und liefern ein Ergebnis dafür. <br>\n",
    "\n",
    "Auch wir haben schon mehrere Funktion benutzt. \n",
    "\n",
    "```python \n",
    "len()\n",
    "range()\n",
    "print()\n",
    "```\n",
    "\n",
    "Diese Funktionen sind datentyp-spezifisch. Sprich, nicht jede Funktion kann auf alle Arten von Daten angewendet werden <br> \n",
    "Hier einige Beispiele: <br>\n"
   ]
  },
  {
   "cell_type": "markdown",
   "metadata": {},
   "source": [
    "### len()-Funktion\n"
   ]
  },
  {
   "cell_type": "code",
   "execution_count": 2,
   "metadata": {},
   "outputs": [],
   "source": [
    "a = \"Mark\"\n",
    "b = 5 \n",
    "c = [1,2,3,4]\n",
    "d = str(5)"
   ]
  },
  {
   "cell_type": "code",
   "execution_count": 3,
   "metadata": {},
   "outputs": [
    {
     "name": "stdout",
     "output_type": "stream",
     "text": [
      "4 4 1\n"
     ]
    }
   ],
   "source": [
    "print(len(a), len(c), len(d))"
   ]
  },
  {
   "cell_type": "code",
   "execution_count": 4,
   "metadata": {},
   "outputs": [
    {
     "ename": "TypeError",
     "evalue": "object of type 'int' has no len()",
     "output_type": "error",
     "traceback": [
      "\u001b[1;31m---------------------------------------------------------------------------\u001b[0m",
      "\u001b[1;31mTypeError\u001b[0m                                 Traceback (most recent call last)",
      "\u001b[1;32m<ipython-input-4-a96cd3291c23>\u001b[0m in \u001b[0;36m<module>\u001b[1;34m\u001b[0m\n\u001b[1;32m----> 1\u001b[1;33m \u001b[0mprint\u001b[0m\u001b[1;33m(\u001b[0m\u001b[0mlen\u001b[0m\u001b[1;33m(\u001b[0m\u001b[0mb\u001b[0m\u001b[1;33m)\u001b[0m\u001b[1;33m)\u001b[0m\u001b[1;33m\u001b[0m\u001b[1;33m\u001b[0m\u001b[0m\n\u001b[0m",
      "\u001b[1;31mTypeError\u001b[0m: object of type 'int' has no len()"
     ]
    }
   ],
   "source": [
    "print(len(b))"
   ]
  },
  {
   "cell_type": "code",
   "execution_count": 5,
   "metadata": {},
   "outputs": [],
   "source": [
    "# Laenge fuer alle Datentypen berechnen\n",
    "def laenge(*args):\n",
    "    for i in args: \n",
    "        print(len(i))"
   ]
  },
  {
   "cell_type": "code",
   "execution_count": 10,
   "metadata": {},
   "outputs": [
    {
     "name": "stdout",
     "output_type": "stream",
     "text": [
      "4\n",
      "4\n",
      "1\n"
     ]
    }
   ],
   "source": [
    "laenge(a,c,d)"
   ]
  },
  {
   "cell_type": "markdown",
   "metadata": {},
   "source": [
    "### sum()-Funktion\n",
    "\n",
    "Die sum()-Funktion berechnet die Summe einer Liste mit numerischen Daten. "
   ]
  },
  {
   "cell_type": "code",
   "execution_count": 32,
   "metadata": {},
   "outputs": [
    {
     "data": {
      "text/plain": [
       "10"
      ]
     },
     "execution_count": 32,
     "metadata": {},
     "output_type": "execute_result"
    }
   ],
   "source": [
    "sum(c)"
   ]
  },
  {
   "cell_type": "markdown",
   "metadata": {},
   "source": [
    "### print()-Funktion\n",
    "\n",
    "Die Standardausgabefunktion in Python. Die Print-Funktion druckt beliebig viele Werte (\"value1, value2, ...\") aus, die durch Komma getrennt sind. Bei der Ausgabe werden die Werte standardmäßig durch Leerzeichen getrennt."
   ]
  },
  {
   "cell_type": "code",
   "execution_count": 2,
   "metadata": {},
   "outputs": [
    {
     "name": "stdout",
     "output_type": "stream",
     "text": [
      "My name is morrow and I am 26\n"
     ]
    }
   ],
   "source": [
    "import os\n",
    "age = 26\n",
    "print('My name is', os.getlogin(), 'and I am', age)"
   ]
  },
  {
   "cell_type": "markdown",
   "metadata": {},
   "source": [
    "### Weitere Built-in Funktionen \n",
    "\n",
    "```python\n",
    "len()\n",
    "type()\n",
    "int()\n",
    "round()\n",
    "float()\n",
    "str()\n",
    "sum()\n",
    "min()\n",
    "max()\n",
    "sorted()\n",
    "```"
   ]
  },
  {
   "cell_type": "markdown",
   "metadata": {},
   "source": [
    "Kleine Aufagbe: \n",
    "Gebe maximalen, minimalen und kumulierten Umsatz der Variable \"Umsatz\" aus und gebe sie per Printbefehl aus. "
   ]
  },
  {
   "cell_type": "code",
   "execution_count": 20,
   "metadata": {},
   "outputs": [],
   "source": [
    "Umsatz = [150, 160, 180, 200, 204, 175, 170, 170, 200, 275, 402, 120]"
   ]
  },
  {
   "cell_type": "markdown",
   "metadata": {},
   "source": [
    "# 2. If Else:\n",
    "\n",
    "\n",
    "Python supports the usual logical conditions from mathematics: <br>\n",
    "\n",
    "```python\n",
    "Equals: a == b  \n",
    "Not Equals: a != b  \n",
    "Less than: a < b  \n",
    "Less than or equal to: a <= b  \n",
    "Greater than: a > b \n",
    "Greater than or equal to: a >= b \n",
    "```\n",
    "\n",
    "\n",
    "WICHTIG: Python benutzt Einrückungen im Code:"
   ]
  },
  {
   "cell_type": "markdown",
   "metadata": {},
   "source": [
    "Wie es richtig geht:"
   ]
  },
  {
   "cell_type": "code",
   "execution_count": 12,
   "metadata": {},
   "outputs": [
    {
     "name": "stdout",
     "output_type": "stream",
     "text": [
      "a ist größer als b\n"
     ]
    }
   ],
   "source": [
    "######################## Wie es richtig gemacht wird #############################\n",
    "\n",
    "a = 30 \n",
    "b = 20 \n",
    "\n",
    "if a > b: \n",
    "    print(\"a ist größer als b\")"
   ]
  },
  {
   "cell_type": "code",
   "execution_count": 4,
   "metadata": {},
   "outputs": [
    {
     "ename": "IndentationError",
     "evalue": "expected an indented block (<ipython-input-4-9b39fb785430>, line 4)",
     "output_type": "error",
     "traceback": [
      "\u001b[1;36m  File \u001b[1;32m\"<ipython-input-4-9b39fb785430>\"\u001b[1;36m, line \u001b[1;32m4\u001b[0m\n\u001b[1;33m    print(\"a ist größer als b\")\u001b[0m\n\u001b[1;37m        ^\u001b[0m\n\u001b[1;31mIndentationError\u001b[0m\u001b[1;31m:\u001b[0m expected an indented block\n"
     ]
    }
   ],
   "source": [
    "######################## Wie es nicht funktioniert #############################\n",
    "\n",
    "if a > b: \n",
    "print(\"a ist größer als b\")"
   ]
  },
  {
   "cell_type": "markdown",
   "metadata": {},
   "source": [
    "## If, elif, else"
   ]
  },
  {
   "cell_type": "code",
   "execution_count": 5,
   "metadata": {},
   "outputs": [
    {
     "name": "stdout",
     "output_type": "stream",
     "text": [
      "a is greater than b\n"
     ]
    }
   ],
   "source": [
    "if b > a:\n",
    "  print(\"b is greater than a\")\n",
    "elif a == b:\n",
    "  print(\"a and b are equal\")\n",
    "else:\n",
    "  print(\"a is greater than b\")"
   ]
  },
  {
   "cell_type": "markdown",
   "metadata": {},
   "source": [
    "**Kurze Version von If Else:** "
   ]
  },
  {
   "cell_type": "code",
   "execution_count": 41,
   "metadata": {},
   "outputs": [
    {
     "name": "stdout",
     "output_type": "stream",
     "text": [
      "A\n"
     ]
    }
   ],
   "source": [
    "print(\"A\") if a > b else print(\"B\")"
   ]
  },
  {
   "cell_type": "markdown",
   "metadata": {},
   "source": [
    "**Nested If Else:**"
   ]
  },
  {
   "cell_type": "code",
   "execution_count": 42,
   "metadata": {},
   "outputs": [
    {
     "name": "stdout",
     "output_type": "stream",
     "text": [
      "Above ten,\n",
      "and also above 20!\n"
     ]
    }
   ],
   "source": [
    "x = 41\n",
    "\n",
    "if x > 10:\n",
    "  print(\"Above ten,\")\n",
    "  if x > 20:\n",
    "    print(\"and also above 20!\")\n",
    "  else:\n",
    "    print(\"but not above 20.\")"
   ]
  },
  {
   "cell_type": "markdown",
   "metadata": {},
   "source": [
    "\"Leere\" if statements. Von Python nicht erlaubt... Was machen wir jetzt? <br>\n",
    "\n",
    "\n",
    "**Pass-Statement**"
   ]
  },
  {
   "cell_type": "code",
   "execution_count": 6,
   "metadata": {},
   "outputs": [],
   "source": [
    "if b > a: \n",
    "    pass # Pass statement kann immer angewendet werden. Wird als \"Platzhalter\" genutzt. "
   ]
  },
  {
   "cell_type": "markdown",
   "metadata": {},
   "source": [
    "**Continue-Statement**\n",
    "\n",
    "Die continue-Anweisung wird benutzt, um Python mitzuteilen, dass es die restlichen Anweisungen in der aktuellen Schleife überspringen soll und direkt mit dem nächsten Schleifendurchlauf fortfahren soll."
   ]
  },
  {
   "cell_type": "markdown",
   "metadata": {},
   "source": [
    "Unterschied der beiden Anweisungen: "
   ]
  },
  {
   "cell_type": "code",
   "execution_count": 15,
   "metadata": {},
   "outputs": [
    {
     "name": "stdout",
     "output_type": "stream",
     "text": [
      "0\n",
      "1\n",
      "2\n",
      "3\n",
      "------------------------------------------------------------\n",
      "1\n",
      "2\n",
      "3\n"
     ]
    }
   ],
   "source": [
    "a = [0,1,2,3]\n",
    "for element in a:\n",
    "    if not element:\n",
    "        pass\n",
    "    print (element)\n",
    "    \n",
    "print(30*\"--\")\n",
    "\n",
    "for element in a:\n",
    "    if not element:\n",
    "        continue\n",
    "    print (element)"
   ]
  },
  {
   "cell_type": "markdown",
   "metadata": {},
   "source": [
    "continue will jump back to the top of the loop. pass will continue processing."
   ]
  },
  {
   "cell_type": "markdown",
   "metadata": {},
   "source": [
    "# 3. LOOPS"
   ]
  },
  {
   "cell_type": "markdown",
   "metadata": {},
   "source": [
    "For-Loop wird genutzt, um über eine Sequenz (Liste, Tuple, Dictionary, Set, oder String) zu iterieren. <br>\n",
    "\n",
    "Mit dem For-Loop können wir ein Set von Statements für jedes Element in der entsprechenden Sequenz ausführen."
   ]
  },
  {
   "cell_type": "code",
   "execution_count": 25,
   "metadata": {},
   "outputs": [
    {
     "name": "stdout",
     "output_type": "stream",
     "text": [
      "DB\n",
      "Fern\n",
      "Verkehr\n"
     ]
    }
   ],
   "source": [
    "words = [\"DB\", \"Fern\", \"Verkehr\"]\n",
    "\n",
    "for i in words: \n",
    "    print(i)"
   ]
  },
  {
   "cell_type": "markdown",
   "metadata": {},
   "source": [
    "For-Loop in Strings:"
   ]
  },
  {
   "cell_type": "code",
   "execution_count": 27,
   "metadata": {},
   "outputs": [
    {
     "name": "stdout",
     "output_type": "stream",
     "text": [
      "S\n",
      "t\n",
      "e\n",
      "p\n",
      "h\n",
      "e\n",
      "n\n",
      "s\n",
      "o\n",
      "n\n",
      "s\n",
      "t\n",
      "r\n",
      "a\n",
      "ß\n",
      "e\n"
     ]
    }
   ],
   "source": [
    "string = \"Stephensonstraße\"\n",
    "\n",
    "\n",
    "for i in string: \n",
    "    print(i)"
   ]
  },
  {
   "cell_type": "code",
   "execution_count": 69,
   "metadata": {},
   "outputs": [
    {
     "name": "stdout",
     "output_type": "stream",
     "text": [
      "['S', 't', 'o', 'p', 'h', 'o', 'n', 's', 'o', 'n', 's', 't', 'r', 'a', 'ß', 'o']\n",
      "['H', 'o', 'r', 'b', 'o', 'r', 't']\n",
      "['H', 'o', 'r', 'b', 'o', 'r', 't']\n"
     ]
    }
   ],
   "source": [
    "def replace_e(string):\n",
    "    new_string = []\n",
    "    for i in string: \n",
    "        temp = str(i)\n",
    "        if i == \"e\":\n",
    "            new_string.append('o')\n",
    "        else: \n",
    "            new_string.append(i)\n",
    "    print(new_string)\n",
    "replace_e(string)\n",
    "\n",
    "replace_e(string=\"Herbert\")\n",
    "replace_e(\"Herbert\")"
   ]
  },
  {
   "cell_type": "code",
   "execution_count": 63,
   "metadata": {},
   "outputs": [
    {
     "data": {
      "text/plain": [
       "'Stophonsonstraßo'"
      ]
     },
     "execution_count": 63,
     "metadata": {},
     "output_type": "execute_result"
    }
   ],
   "source": [
    "def replacer(string): #define the function with a parameter (which will be whatever string you want)\n",
    "    newlist = [] #create a new list which will be the output\n",
    "    strlist = list(string) #create a list of each character in the input string\n",
    "    for item in strlist: #iterate through the items in the list of string characters\n",
    "        if item == 'e': # this line and the next 7 lines check what the letter is and writes the letter you want to the new list\n",
    "            newlist.append('o')\n",
    "        else: \n",
    "            newlist.append(item)\n",
    "    return ''.join(newlist) #output the new list as a string\n",
    "\n",
    "replacer(string) #call the function with the string as a parameter"
   ]
  },
  {
   "cell_type": "markdown",
   "metadata": {},
   "source": [
    "Break-Statement <br>\n",
    "\n",
    "\n",
    "Stoppe den Loop bevor er durch alle Elemente iteriert"
   ]
  },
  {
   "cell_type": "code",
   "execution_count": 71,
   "metadata": {},
   "outputs": [
    {
     "name": "stdout",
     "output_type": "stream",
     "text": [
      "S\n",
      "t\n"
     ]
    }
   ],
   "source": [
    "for i in string: \n",
    "    if i == \"e\":\n",
    "        break\n",
    "    print(i)"
   ]
  },
  {
   "cell_type": "markdown",
   "metadata": {},
   "source": [
    "Continue-Statement <br>\n",
    "\n",
    "Überspringt die aktuelle Iteration und macht mit der Nächsten weiter"
   ]
  },
  {
   "cell_type": "code",
   "execution_count": 72,
   "metadata": {},
   "outputs": [
    {
     "name": "stdout",
     "output_type": "stream",
     "text": [
      "S\n",
      "t\n",
      "p\n",
      "h\n",
      "n\n",
      "s\n",
      "o\n",
      "n\n",
      "s\n",
      "t\n",
      "r\n",
      "a\n",
      "ß\n"
     ]
    }
   ],
   "source": [
    "for i in string: \n",
    "    if i == \"e\": \n",
    "        continue\n",
    "    print(i)"
   ]
  },
  {
   "cell_type": "markdown",
   "metadata": {},
   "source": [
    "Range-Funktion:"
   ]
  },
  {
   "cell_type": "code",
   "execution_count": 81,
   "metadata": {},
   "outputs": [
    {
     "name": "stdout",
     "output_type": "stream",
     "text": [
      "0\n",
      "1\n",
      "2\n",
      "3\n",
      "4\n",
      "5\n",
      "6\n",
      "7\n",
      "8\n",
      "9\n",
      "\n",
      "\n",
      "4\n",
      "5\n",
      "6\n",
      "7\n",
      "8\n",
      "9\n",
      "\n",
      "\n",
      "4\n",
      "6\n",
      "8\n"
     ]
    }
   ],
   "source": [
    "for i in range(10):\n",
    "    print(i)\n",
    "    \n",
    "    \n",
    "print(\"\\n\")\n",
    "    \n",
    "    \n",
    "\n",
    "for i in range(4, 10):\n",
    "    print(i)\n",
    "    \n",
    "print(\"\\n\")\n",
    "    \n",
    "for i in range(4, 10, 2):\n",
    "    print(i)"
   ]
  },
  {
   "cell_type": "markdown",
   "metadata": {},
   "source": [
    "**Kleine Aufgabe für's nächste Treffen:** <br>\n",
    "\n",
    "Write a Python program which iterates the integers from 1 to 50. For multiples of three print \"Fizz\" instead of the number and for the multiples of five print \"Buzz\". For numbers which are multiples of both three and five print \"FizzBuzz\"."
   ]
  },
  {
   "cell_type": "code",
   "execution_count": 8,
   "metadata": {},
   "outputs": [
    {
     "name": "stdout",
     "output_type": "stream",
     "text": [
      "fizzbuzz\n",
      "1\n",
      "2\n",
      "fizz\n",
      "4\n",
      "buzz\n",
      "fizz\n",
      "7\n",
      "8\n",
      "fizz\n",
      "buzz\n",
      "11\n",
      "fizz\n",
      "13\n",
      "14\n",
      "fizzbuzz\n",
      "16\n",
      "17\n",
      "fizz\n",
      "19\n",
      "buzz\n",
      "fizz\n",
      "22\n",
      "23\n",
      "fizz\n",
      "buzz\n",
      "26\n",
      "fizz\n",
      "28\n",
      "29\n",
      "fizzbuzz\n",
      "31\n",
      "32\n",
      "fizz\n",
      "34\n",
      "buzz\n",
      "fizz\n",
      "37\n",
      "38\n",
      "fizz\n",
      "buzz\n",
      "41\n",
      "fizz\n",
      "43\n",
      "44\n",
      "fizzbuzz\n",
      "46\n",
      "47\n",
      "fizz\n",
      "49\n",
      "buzz\n"
     ]
    }
   ],
   "source": [
    "for fizzbuzz in range(51):\n",
    "    if fizzbuzz % 3 == 0 and fizzbuzz % 5 == 0:\n",
    "        print(\"fizzbuzz\")\n",
    "        continue\n",
    "    elif fizzbuzz % 3 == 0:\n",
    "        print(\"fizz\")\n",
    "        continue\n",
    "    elif fizzbuzz % 5 == 0:\n",
    "        print(\"buzz\")\n",
    "        continue\n",
    "    print(fizzbuzz)"
   ]
  },
  {
   "cell_type": "markdown",
   "metadata": {},
   "source": [
    "# Zusammenfassung\n",
    "\n",
    "- Was sind Datentypen, wie kann ich sie zuweisen und wie unterscheiden sie sich voneinander.\n",
    "- Integrierte Funktionen (Simple Berechnungen, etc.)\n",
    "- Verzweigungen für eine Datenabfrage bauen (If-Else)\n",
    "- Über Daten iterieren (For-Loops)"
   ]
  },
  {
   "cell_type": "code",
   "execution_count": null,
   "metadata": {},
   "outputs": [],
   "source": []
  }
 ],
 "metadata": {
  "kernelspec": {
   "display_name": "Python 3",
   "language": "python",
   "name": "python3"
  },
  "language_info": {
   "codemirror_mode": {
    "name": "ipython",
    "version": 3
   },
   "file_extension": ".py",
   "mimetype": "text/x-python",
   "name": "python",
   "nbconvert_exporter": "python",
   "pygments_lexer": "ipython3",
   "version": "3.7.6"
  }
 },
 "nbformat": 4,
 "nbformat_minor": 2
}
