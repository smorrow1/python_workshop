{
 "cells": [
  {
   "cell_type": "markdown",
   "metadata": {},
   "source": [
    "# 1. Datentypen"
   ]
  },
  {
   "cell_type": "markdown",
   "metadata": {},
   "source": [
    "Variablen dienen dazu, bestimmte Datentypen zu speichern und damit verschiendste Berechnungen, etc. durchzuführen. <br>\n",
    "\n",
    "Der Datentyp wird gesetzt, sobald einer Variable ein Wert zugewiesen wird. <br>\n",
    "\n",
    "```\n",
    "x = \"Hello World\" \n",
    "```<br> \n",
    "\n",
    "Python nutzt folgende Datentypen: \n",
    "\n",
    "*Text Type*:\t**str** <br>\n",
    "*Numeric Types*:\t**int, float, complex** <br>\n",
    "*Sequence Types*:\t**list, tuple, range** <br>\n",
    "*Mapping Type*:\t**dict** <br>\n",
    "*Set Types*:\t**set, frozenset** <br>\n",
    "*Boolean Typ*:\t**bool** <br>\n",
    "*Binary Types*:\t**bytes, bytearray** <br>"
   ]
  },
  {
   "cell_type": "code",
   "execution_count": null,
   "metadata": {},
   "outputs": [],
   "source": [
    "a = \"Hello World\"\n",
    "b = 20 \n",
    "c = 20.6\n",
    "d = 1j\n",
    "e = [\"DB\", \"Fern\", \"Verkehr\"]\n",
    "f = (\"DB\", \"Fern\", \"Verkehr\")\n",
    "g = {\"Name\" : \"David\", \"Alter\" : 40}\n",
    "h = range(7)\n",
    "i = True\n",
    "\n",
    "# Datentypen testen mit type() Funktion. Ersetze den Variablennamen, um den Datentyp ausgeben zu lassen.\n",
    "type(a)\n",
    "\n",
    "# Wenn Python nicht im Jupyter Notebook gestartet wird print() nutzen, um Output zu sehen \n",
    "print(type(a))"
   ]
  },
  {
   "cell_type": "markdown",
   "metadata": {},
   "source": [
    "Frage: Was ist der Unterschied zwischen **Variable e** und **Variable f**? "
   ]
  },
  {
   "cell_type": "code",
   "execution_count": null,
   "metadata": {},
   "outputs": [],
   "source": [
    "e[0] = \"ICE\"\n",
    "f[0] = \"ICE\""
   ]
  },
  {
   "cell_type": "markdown",
   "metadata": {},
   "source": [
    " "
   ]
  },
  {
   "cell_type": "markdown",
   "metadata": {},
   "source": [
    "Datentypen können auch spezifisch zugewiesen werden: <br>\n",
    "```python\n",
    "a = str(\"Hello World\")\n",
    "b = int(20)\n",
    "c = float(20.5)\n",
    "d = complex(1j)\n",
    "e = list((\"DB\", \"Fern\", \"Verkehr\"))\n",
    "f = tuple((\"DB\", \"Fern\", \"Verkehr\"))\n",
    "g = dict(Name=\"David\", Alter=40)\n",
    "h = range(5)\n",
    "i = bool(1)```"
   ]
  },
  {
   "cell_type": "markdown",
   "metadata": {},
   "source": [
    "## Integrierte Funktionen in Python\n",
    "\n",
    "Funktionen verarbeiten die in den Variablen hinterlegten Daten und liefern ein Ergebnis dafür. <br>\n",
    "\n",
    "Hier 3 Funktionen, die wir uns heute genauer anschauen: \n",
    "```python \n",
    "len()\n",
    "sum()\n",
    "print()\n",
    "```\n",
    "\n",
    "Diese Funktionen sind datentyp-spezifisch. Sprich, nicht jede Funktion kann auf alle Arten von Daten angewendet werden <br> \n"
   ]
  },
  {
   "cell_type": "markdown",
   "metadata": {},
   "source": [
    "### len()-Funktion\n",
    "Die len()-Function gibt die Anzahl der Items eines Objektes aus.\n",
    "\n",
    "* Wenn das Objekt ein String ist, so gibt die Funktion die Anzahl der Zeichen im String aus."
   ]
  },
  {
   "cell_type": "code",
   "execution_count": 1,
   "metadata": {},
   "outputs": [],
   "source": [
    "a = \"Mark\"\n",
    "b = 5 \n",
    "c = [1,2,3,4]\n",
    "d = str(5)"
   ]
  },
  {
   "cell_type": "code",
   "execution_count": null,
   "metadata": {},
   "outputs": [],
   "source": [
    "print(len(a), len(c), len(d))"
   ]
  },
  {
   "cell_type": "code",
   "execution_count": null,
   "metadata": {},
   "outputs": [],
   "source": [
    "print(len(b))"
   ]
  },
  {
   "cell_type": "code",
   "execution_count": null,
   "metadata": {},
   "outputs": [],
   "source": [
    "# Laenge fuer alle Datentypen berechnen\n",
    "def laenge(*args):\n",
    "    for i in args: \n",
    "        print(len(i))"
   ]
  },
  {
   "cell_type": "code",
   "execution_count": null,
   "metadata": {},
   "outputs": [],
   "source": [
    "laenge(a,c,d)"
   ]
  },
  {
   "cell_type": "markdown",
   "metadata": {},
   "source": [
    "### sum()-Funktion\n",
    "\n",
    "Die sum()-Funktion berechnet die Summe einer Liste mit numerischen Daten. \n",
    "\n",
    "Die Funktion nimmt zwei Parameter **(a, start)**, wobei \"a\" die Liste darstellt und \"start\" einen gewählten Anfangswert abbildet, von dem aus summiert wird. (Wenn \"start\" nicht explizit an die Funktion weitergegeben wird, so ist start=0)"
   ]
  },
  {
   "cell_type": "code",
   "execution_count": null,
   "metadata": {},
   "outputs": [],
   "source": [
    "c = [1,2,3,4]\n",
    "d = (10,10)\n",
    "\n",
    "print(sum(c), \"\\n\", sum(c,10))"
   ]
  },
  {
   "cell_type": "markdown",
   "metadata": {},
   "source": [
    "### print()-Funktion\n",
    "\n",
    "Die Standardausgabefunktion in Python. <br>Die Print-Funktion \"druckt\" beliebig viele Werte (\"value1, value2, ...\") aus, die durch Komma getrennt werden müssen. Bei der Ausgabe werden die Werte standardmäßig durch Leerzeichen getrennt."
   ]
  },
  {
   "cell_type": "code",
   "execution_count": null,
   "metadata": {},
   "outputs": [],
   "source": [
    "import os\n",
    "age = 26\n",
    "print('My name is', os.getlogin(), 'and I am', age)"
   ]
  },
  {
   "cell_type": "markdown",
   "metadata": {},
   "source": [
    "### Weitere Built-in Funktionen \n",
    "\n",
    "```python\n",
    "len()\n",
    "type()\n",
    "int()\n",
    "round()\n",
    "float()\n",
    "str()\n",
    "sum()\n",
    "min()\n",
    "max()\n",
    "sorted()\n",
    "```"
   ]
  },
  {
   "cell_type": "markdown",
   "metadata": {},
   "source": [
    "Kleine Aufagbe: \n",
    "Berechne maximalen, minimalen und kumulierten Umsatz der Variable \"Umsatz\" und gebe die Werte per Printbefehl aus. "
   ]
  },
  {
   "cell_type": "code",
   "execution_count": 3,
   "metadata": {},
   "outputs": [],
   "source": [
    "Umsatz = [150, 160, 180, 200, 204, 175, 170, 170, 200, 275, 402, 120]"
   ]
  },
  {
   "cell_type": "markdown",
   "metadata": {},
   "source": [
    "# 2. If Else:\n",
    "\n",
    "\n",
    "Python übernimmt die gängigen logischen Operatoren aus der Mathematik: <br>\n",
    "\n",
    "```python\n",
    "Equals: a == b  \n",
    "Not Equals: a != b  \n",
    "Less than: a < b  \n",
    "Less than or equal to: a <= b  \n",
    "Greater than: a > b \n",
    "Greater than or equal to: a >= b \n",
    "```\n",
    "\n",
    "\n",
    "**WICHTIG**: Python benutzt Einrückungen im Code:"
   ]
  },
  {
   "cell_type": "markdown",
   "metadata": {},
   "source": [
    "Wie es richtig geht:"
   ]
  },
  {
   "cell_type": "code",
   "execution_count": null,
   "metadata": {},
   "outputs": [],
   "source": [
    "a = 30 \n",
    "b = 20 \n",
    "\n",
    "if a > b: \n",
    "    print(\"a ist größer als b\")"
   ]
  },
  {
   "cell_type": "markdown",
   "metadata": {},
   "source": [
    "Wie es nicht funktioniert:"
   ]
  },
  {
   "cell_type": "code",
   "execution_count": null,
   "metadata": {},
   "outputs": [],
   "source": [
    "if a > b: \n",
    "print(\"a ist größer als b\")"
   ]
  },
  {
   "cell_type": "markdown",
   "metadata": {},
   "source": [
    "## If, elif, else"
   ]
  },
  {
   "cell_type": "code",
   "execution_count": null,
   "metadata": {},
   "outputs": [],
   "source": [
    "if b > a:\n",
    "    print(\"b is greater than a\")\n",
    "elif a == b:\n",
    "    print(\"a and b are equal\")\n",
    "else:\n",
    "    print(\"a is greater than b\")"
   ]
  },
  {
   "cell_type": "markdown",
   "metadata": {},
   "source": [
    "**Kurze Version von If Else:** "
   ]
  },
  {
   "cell_type": "code",
   "execution_count": null,
   "metadata": {},
   "outputs": [],
   "source": [
    "print(\"A\") if a > b else print(\"B\")"
   ]
  },
  {
   "cell_type": "markdown",
   "metadata": {},
   "source": [
    "**Nested If Else:**"
   ]
  },
  {
   "cell_type": "code",
   "execution_count": null,
   "metadata": {},
   "outputs": [],
   "source": [
    "x = 41\n",
    "\n",
    "if x > 10:\n",
    "    print(\"Above ten,\")\n",
    "    if x > 20:\n",
    "        print(\"and also above 20!\")\n",
    "    else:\n",
    "        print(\"but not above 20.\")"
   ]
  },
  {
   "cell_type": "markdown",
   "metadata": {},
   "source": [
    "\n",
    "\n",
    "\n"
   ]
  },
  {
   "cell_type": "markdown",
   "metadata": {},
   "source": [
    "\"Leere\" if-Statements. Von Python nicht erlaubt... Was machen wir jetzt? <br>\n",
    "\n",
    "### Pass-Statement"
   ]
  },
  {
   "cell_type": "code",
   "execution_count": null,
   "metadata": {},
   "outputs": [],
   "source": [
    "if b > a: \n",
    "    pass \n",
    "\n",
    "# Pass-Statement kann immer angewendet werden und wird als \"Platzhalter\" genutzt. "
   ]
  },
  {
   "cell_type": "markdown",
   "metadata": {},
   "source": [
    "  \n",
    "  "
   ]
  },
  {
   "cell_type": "markdown",
   "metadata": {},
   "source": [
    " "
   ]
  },
  {
   "cell_type": "markdown",
   "metadata": {},
   "source": [
    "# 3. LOOPS"
   ]
  },
  {
   "cell_type": "markdown",
   "metadata": {},
   "source": [
    "For-Loop wird genutzt, um über eine Sequenz (Liste, Tuple, Dictionary, Set, oder String) zu iterieren. <br>\n",
    "\n",
    "Der For-Loop durchläuft dabei die Elemente einer Sequenz der Reihe nach und führt den Block jedes Mal aus."
   ]
  },
  {
   "cell_type": "code",
   "execution_count": null,
   "metadata": {},
   "outputs": [],
   "source": [
    "words = [\"DB\", \"Fern\", \"Verkehr\"]\n",
    "\n",
    "for i in words: \n",
    "    print(i)"
   ]
  },
  {
   "cell_type": "markdown",
   "metadata": {},
   "source": [
    "#### For-Loop in Strings:"
   ]
  },
  {
   "cell_type": "code",
   "execution_count": null,
   "metadata": {},
   "outputs": [],
   "source": [
    "string = \"Stephensonstraße\"\n",
    "\n",
    "\n",
    "for i in string: \n",
    "    print(i)"
   ]
  },
  {
   "cell_type": "code",
   "execution_count": null,
   "metadata": {},
   "outputs": [],
   "source": [
    "string = \"Stephensonstraße\"\n",
    "def replacer(string): #define the function with a parameter (which will be whatever string you want)\n",
    "    newlist = [] #create a new list which will be the output\n",
    "    strlist = list(string) #create a list of each character in the input string\n",
    "    for item in strlist: #iterate through the items in the list of string characters\n",
    "        if item == 'e': \n",
    "            newlist.append('o')\n",
    "        else: \n",
    "            newlist.append(item)\n",
    "    return ''.join(newlist) #output the new list as a string\n",
    "\n",
    "replacer(string) #call the function with the string as a parameter"
   ]
  },
  {
   "cell_type": "markdown",
   "metadata": {},
   "source": [
    "### Break-Statement\n",
    "\n",
    "\n",
    "Stoppe den Loop bevor er durch alle Elemente iteriert"
   ]
  },
  {
   "cell_type": "code",
   "execution_count": null,
   "metadata": {},
   "outputs": [],
   "source": [
    "for i in string: \n",
    "    if i == \"e\":\n",
    "        break\n",
    "    print(i)"
   ]
  },
  {
   "cell_type": "markdown",
   "metadata": {},
   "source": [
    "### Continue-Statement\n",
    "\n",
    "Überspringt die aktuelle Iteration und macht mit der Nächsten weiter. <br>\n",
    "\n",
    "Die continue-Anweisung wird benutzt, um Python mitzuteilen, dass es die restlichen Anweisungen in der aktuellen Schleife überspringen soll und direkt mit dem nächsten Schleifendurchlauf fortfahren soll."
   ]
  },
  {
   "cell_type": "code",
   "execution_count": null,
   "metadata": {},
   "outputs": [],
   "source": [
    "for i in string: \n",
    "    if i == \"s\": \n",
    "        continue\n",
    "    print(i)"
   ]
  },
  {
   "cell_type": "markdown",
   "metadata": {},
   "source": [
    "Unterschied zwischen **pass-Statement** und **continue-Statement**: \n",
    "\n",
    "continue will jump back to the top of the loop. pass will continue processing."
   ]
  },
  {
   "cell_type": "code",
   "execution_count": null,
   "metadata": {},
   "outputs": [],
   "source": [
    "for i in string: \n",
    "    if i == \"s\": \n",
    "        continue\n",
    "    print(i)\n",
    "    \n",
    "print(30*\"--\")    \n",
    "\n",
    "for i in string: \n",
    "    if i == \"s\": \n",
    "        pass\n",
    "    print(i)\n",
    "    \n",
    "    \n",
    "print(30*\"--\")\n",
    "    \n",
    "    \n",
    "a = [0,1,2,3]\n",
    "for element in a:\n",
    "    if not element:\n",
    "        pass\n",
    "    print (element)\n",
    "    \n",
    "print(30*\"--\")\n",
    "\n",
    "for element in a:\n",
    "    if not element:\n",
    "        continue\n",
    "    print (element)"
   ]
  },
  {
   "cell_type": "markdown",
   "metadata": {},
   "source": [
    "### Range-Funktion:\n",
    "\n",
    "Mit Hilfe der range()-Funktion lässt sich die for-Schleife ideal für Iterationen nutzen. range() liefert Listen, die arithmetischen Aufzählungen entsprechen.\n",
    "Aufbau: \n",
    "\n",
    "```python\n",
    "range(begin,end,step)\n",
    "```\n",
    "Bei Aufruf mit 2 Argumenten wird eine Liste aller ganzen Zahlen von begin (einschließlich) bis end (aussschließlich) geliefert.\n",
    "\n",
    "**Vorsicht!** Range fängt immer bei 0 an, wenn nicht anders spezifiziert.\n"
   ]
  },
  {
   "cell_type": "code",
   "execution_count": null,
   "metadata": {},
   "outputs": [],
   "source": [
    "for i in range(10):\n",
    "    print(i)\n",
    "    \n",
    "    \n",
    "print(\"\\n\")\n",
    "    \n",
    "    \n",
    "\n",
    "for i in range(4, 10):\n",
    "    print(i)\n",
    "    \n",
    "print(\"\\n\")\n",
    "    \n",
    "for i in range(4, 10, 2):\n",
    "    print(i)"
   ]
  },
  {
   "cell_type": "markdown",
   "metadata": {},
   "source": [
    "## Kleine Aufgabe für's nächste Treffen:\n",
    "\n",
    "Schreibe ein Programm, welches über die Ganzzahlen von 1 bis 50. Bei jeder Zahl die durch drei teilbar ist soll \"Fizz\" anstelle der Zahl ausgegeben werden. Zahlen, die durch fünf teilbar sind soll mit dem Wort \"Buzz\" ersetzt werden. Zuletzt sollen Zahlen die sowohl durch drei **und** fünf teilbar sind durch das Wort \"FizzBuzz\" ausgetauscht werden.\n",
    "\n",
    "Tipp: Der Modulo-Operator wird in Python folgendermaßen umgesetzt: \n",
    "\n",
    "```python \n",
    "\n",
    "a = 5 % 3\n",
    "\n",
    "out: 2\n",
    "    \n",
    "```\n"
   ]
  },
  {
   "cell_type": "code",
   "execution_count": null,
   "metadata": {},
   "outputs": [],
   "source": []
  },
  {
   "cell_type": "markdown",
   "metadata": {},
   "source": [
    "# Zusammenfassung\n",
    "\n",
    "- Was sind Datentypen, wie kann ich sie zuweisen und wie unterscheiden sie sich voneinander.\n",
    "- Integrierte Funktionen (Simple Berechnungen, etc.)\n",
    "- Verzweigungen für eine Datenabfrage bauen (If-Else)\n",
    "- Über Daten iterieren (For-Loops)"
   ]
  },
  {
   "cell_type": "code",
   "execution_count": null,
   "metadata": {},
   "outputs": [],
   "source": []
  }
 ],
 "metadata": {
  "kernelspec": {
   "display_name": "Python 3",
   "language": "python",
   "name": "python3"
  },
  "language_info": {
   "codemirror_mode": {
    "name": "ipython",
    "version": 3
   },
   "file_extension": ".py",
   "mimetype": "text/x-python",
   "name": "python",
   "nbconvert_exporter": "python",
   "pygments_lexer": "ipython3",
   "version": "3.7.6"
  }
 },
 "nbformat": 4,
 "nbformat_minor": 2
}
