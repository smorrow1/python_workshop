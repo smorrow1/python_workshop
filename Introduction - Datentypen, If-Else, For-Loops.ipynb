{
 "cells": [
  {
   "cell_type": "markdown",
   "metadata": {},
   "source": [
    "# 1. Datentypen"
   ]
  },
  {
   "cell_type": "markdown",
   "metadata": {},
   "source": [
    "Variablen dienen dazu, bestimmte Datentypen zu speichern und damit verschiendste Berechnungen, etc. durchzuführen. <br>\n",
    "\n",
    "Der Datentyp wird gesetzt, sobald einer Variable ein Wert zugewiesen wird. <br>\n",
    "\n",
    "```\n",
    "x = \"Hello World\" \n",
    "```<br> \n",
    "\n",
    "Python nutzt die folgenden Datentypen per default: \n",
    "\n",
    "*Text Type*:\t**str** <br>\n",
    "*Numeric Types*:\t**int, float, complex** <br>\n",
    "*Sequence Types*:\t**list, tuple, range** <br>\n",
    "*Mapping Type*:\t**dict** <br>\n",
    "*Set Types*:\t**set, frozenset** <br>\n",
    "*Boolean Typ*:\t**bool** <br>\n",
    "*Binary Types*:\t**bytes, bytearray** <br>"
   ]
  },
  {
   "cell_type": "code",
   "execution_count": 1,
   "metadata": {},
   "outputs": [
    {
     "name": "stdout",
     "output_type": "stream",
     "text": [
      "<class 'str'>\n"
     ]
    }
   ],
   "source": [
    "a = \"Hello World\"\n",
    "b = 20 \n",
    "c = 20.6\n",
    "d = 1j\n",
    "e = [\"DB\", \"Fern\", \"Verkehr\"]\n",
    "f = (\"DB\", \"Fern\", \"Verkehr\")\n",
    "g = {\"Name\" : \"David\", \"Alter\" : 40}\n",
    "h = range(7)\n",
    "i = True\n",
    "\n",
    "# Datentypen testen mit type() Funktion. Ersetze den Variablennamen, um den Datentyp ausgeben zu lassen.\n",
    "type(a)\n",
    "\n",
    "# Wenn Python nicht im Jupyter Notebook gestartet wird print() nutzen, um Output zu sehen \n",
    "print(type(a))"
   ]
  },
  {
   "cell_type": "markdown",
   "metadata": {},
   "source": [
    "Datentypen können auch spezifisch zugewiesen werden: <br>\n",
    "```python\n",
    "a = str(\"Hello World\")\n",
    "b = int(20)\n",
    "c = float(20.5)\n",
    "d = complex(1j)\n",
    "e = list((\"DB\", \"Fern\", \"Verkehr\"))\n",
    "f = tuple((\"DB\", \"Fern\", \"Verkehr\"))\n",
    "g = dict(Name=\"David\", Alter=40)\n",
    "h = range(5)\n",
    "i = bool(1)```"
   ]
  },
  {
   "cell_type": "markdown",
   "metadata": {},
   "source": [
    "## Integrierte Funktionen in Python\n",
    "\n",
    "Funktionen verarbeiten mit den in den Variablen bereits hinterlegten Daten und liefern ein Ergebnis dafür. <br>\n",
    "\n",
    "Auch wir haben schon mehrere Funktion benutzt. \n",
    "\n",
    "```python \n",
    "len()\n",
    "range()\n",
    "print()\n",
    "```\n",
    "\n",
    "Diese Funktionen sind datentyp-spezifisch. Sprich, nicht jede Funktion kann auf alle Arten von Daten angewendet werden <br> \n",
    "Hier einige Beispiele: <br>\n"
   ]
  },
  {
   "cell_type": "markdown",
   "metadata": {},
   "source": [
    "### len()-Funktion\n"
   ]
  },
  {
   "cell_type": "code",
   "execution_count": 2,
   "metadata": {},
   "outputs": [],
   "source": [
    "a = \"Mark\"\n",
    "b = 5 \n",
    "c = [1,2,3,4]\n",
    "d = str(5)"
   ]
  },
  {
   "cell_type": "code",
   "execution_count": 3,
   "metadata": {},
   "outputs": [
    {
     "name": "stdout",
     "output_type": "stream",
     "text": [
      "4 4 1\n"
     ]
    }
   ],
   "source": [
    "print(len(a), len(c), len(d))"
   ]
  },
  {
   "cell_type": "code",
   "execution_count": 4,
   "metadata": {},
   "outputs": [
    {
     "ename": "TypeError",
     "evalue": "object of type 'int' has no len()",
     "traceback": [
      "\u001b[0;31m---------------------------------------------------------------------------\u001b[0m",
      "\u001b[0;31mTypeError\u001b[0m                                 Traceback (most recent call last)",
      "\u001b[0;32m<ipython-input-4-e54b1a07cfcb>\u001b[0m in \u001b[0;36m<module>\u001b[0;34m()\u001b[0m\n\u001b[0;32m----> 1\u001b[0;31m \u001b[0mprint\u001b[0m\u001b[0;34m(\u001b[0m\u001b[0mlen\u001b[0m\u001b[0;34m(\u001b[0m\u001b[0mb\u001b[0m\u001b[0;34m)\u001b[0m\u001b[0;34m)\u001b[0m\u001b[0;34m\u001b[0m\u001b[0;34m\u001b[0m\u001b[0m\n\u001b[0m",
      "\u001b[0;31mTypeError\u001b[0m: object of type 'int' has no len()"
     ],
     "output_type": "error"
    }
   ],
   "source": [
    "print(len(b))"
   ]
  },
  {
   "cell_type": "code",
   "execution_count": 5,
   "metadata": {},
   "outputs": [],
   "source": [
    "# Laenge fuer alle Datentypen berechnen\n",
    "def laenge(*args):\n",
    "    for i in args: \n",
    "        print(len(i))"
   ]
  },
  {
   "cell_type": "markdown",
   "metadata": {},
   "source": [
    "### sum()-Funktion\n",
    "\n",
    "Die sum()-Funktion berechnet die Summe einer Liste mit numerischen Daten. "
   ]
  },
  {
   "cell_type": "code",
   "execution_count": 6,
   "metadata": {},
   "outputs": [
    {
     "data": {
      "text/plain": [
       "10"
      ]
     },
     "execution_count": 6,
     "metadata": {},
     "output_type": "execute_result"
    }
   ],
   "source": [
    "sum(c)"
   ]
  },
  {
   "cell_type": "markdown",
   "metadata": {},
   "source": [
    "### Weitere Built-in Funktionen \n",
    "\n",
    "```python\n",
    "print()\n",
    "len()\n",
    "type()\n",
    "int()\n",
    "round()\n",
    "float()\n",
    "str()\n",
    "sum()\n",
    "min()\n",
    "max()\n",
    "sorted()\n",
    "```"
   ]
  },
  {
   "cell_type": "markdown",
   "metadata": {},
   "source": [
    "# 2. If Else:\n",
    "\n",
    "\n",
    "Python supports the usual logical conditions from mathematics: <br>\n",
    "\n",
    "```python\n",
    "Equals: a == b  \n",
    "Not Equals: a != b  \n",
    "Less than: a < b  \n",
    "Less than or equal to: a <= b  \n",
    "Greater than: a > b \n",
    "Greater than or equal to: a >= b \n",
    "```\n",
    "\n",
    "\n",
    "WICHTIG: Python benutzt Einrückungen im Code:"
   ]
  },
  {
   "cell_type": "markdown",
   "metadata": {},
   "source": [
    "Wie es richtig geht:"
   ]
  },
  {
   "cell_type": "code",
   "execution_count": 7,
   "metadata": {},
   "outputs": [
    {
     "name": "stdout",
     "output_type": "stream",
     "text": [
      "a ist größer als b\n"
     ]
    }
   ],
   "source": [
    "######################## Wie es richtig gemacht wird #############################\n",
    "\n",
    "a = 30 \n",
    "b = 20 \n",
    "\n",
    "if a > b: \n",
    "    print(\"a ist größer als b\")"
   ]
  },
  {
   "cell_type": "code",
   "execution_count": 8,
   "metadata": {},
   "outputs": [
    {
     "ename": "IndentationError",
     "evalue": "expected an indented block (<ipython-input-8-fb6291ce670e>, line 4)",
     "traceback": [
      "\u001b[0;36m  File \u001b[0;32m\"<ipython-input-8-fb6291ce670e>\"\u001b[0;36m, line \u001b[0;32m4\u001b[0m\n\u001b[0;31m    print(\"a ist größer als b\")\u001b[0m\n\u001b[0m        ^\u001b[0m\n\u001b[0;31mIndentationError\u001b[0m\u001b[0;31m:\u001b[0m expected an indented block\n"
     ],
     "output_type": "error"
    }
   ],
   "source": [
    "######################## Wie es nicht funktioniert #############################\n",
    "\n",
    "if a > b: \n",
    "print(\"a ist größer als b\")"
   ]
  },
  {
   "cell_type": "markdown",
   "metadata": {},
   "source": [
    "## If, elif, else"
   ]
  },
  {
   "cell_type": "code",
   "execution_count": 9,
   "metadata": {},
   "outputs": [
    {
     "name": "stdout",
     "output_type": "stream",
     "text": [
      "a is greater than b\n"
     ]
    }
   ],
   "source": [
    "if b > a:\n",
    "  print(\"b is greater than a\")\n",
    "elif a == b:\n",
    "  print(\"a and b are equal\")\n",
    "else:\n",
    "  print(\"a is greater than b\")"
   ]
  },
  {
   "cell_type": "markdown",
   "metadata": {},
   "source": [
    "**Kurze Version von If Else:** "
   ]
  },
  {
   "cell_type": "code",
   "execution_count": 10,
   "metadata": {},
   "outputs": [
    {
     "name": "stdout",
     "output_type": "stream",
     "text": [
      "A\n"
     ]
    }
   ],
   "source": [
    "print(\"A\") if a > b else print(\"B\")"
   ]
  },
  {
   "cell_type": "markdown",
   "metadata": {},
   "source": [
    "**Nested If Else:**"
   ]
  },
  {
   "cell_type": "code",
   "execution_count": 11,
   "metadata": {},
   "outputs": [
    {
     "name": "stdout",
     "output_type": "stream",
     "text": [
      "Above ten,\nand also above 20!\n"
     ]
    }
   ],
   "source": [
    "x = 41\n",
    "\n",
    "if x > 10:\n",
    "  print(\"Above ten,\")\n",
    "  if x > 20:\n",
    "    print(\"and also above 20!\")\n",
    "  else:\n",
    "    print(\"but not above 20.\")"
   ]
  },
  {
   "cell_type": "markdown",
   "metadata": {},
   "source": [
    "\"Leere\" if statements. Von Python nicht erlaubt... Was machen wir jetzt? <br>\n",
    "\n",
    "\n",
    "**Pass-Statement**"
   ]
  },
  {
   "cell_type": "code",
   "execution_count": 12,
   "metadata": {},
   "outputs": [],
   "source": [
    "if b > a: \n",
    "    pass # Pass statement kann immer angewendet werden. Überspringt Statement, um an nächster Stelle weiterzumachen"
   ]
  },
  {
   "cell_type": "markdown",
   "metadata": {},
   "source": [
    "# 3. LOOPS"
   ]
  },
  {
   "cell_type": "markdown",
   "metadata": {},
   "source": [
    "For-Loop wird genutzt, um über eine Sequenz (Liste, Tuple, Dictionary, Set, oder String) zu iterieren. <br>\n",
    "\n",
    "Mit dem For-Loop können wir ein Set von Statements für jedes Element in der entsprechenden Sequenz ausführen."
   ]
  },
  {
   "cell_type": "code",
   "execution_count": 13,
   "metadata": {},
   "outputs": [
    {
     "name": "stdout",
     "output_type": "stream",
     "text": [
      "DB\nFern\nVerkehr\n"
     ]
    }
   ],
   "source": [
    "words = [\"DB\", \"Fern\", \"Verkehr\"]\n",
    "\n",
    "for i in words: \n",
    "    print(i)"
   ]
  },
  {
   "cell_type": "markdown",
   "metadata": {},
   "source": [
    "For-Loop in Strings:"
   ]
  },
  {
   "cell_type": "code",
   "execution_count": 14,
   "metadata": {},
   "outputs": [
    {
     "name": "stdout",
     "output_type": "stream",
     "text": [
      "S\nt\ne\np\nh\ne\nn\ns\no\nn\ns\nt\nr\na\nß\ne\n"
     ]
    }
   ],
   "source": [
    "string = \"Stephensonstraße\"\n",
    "\n",
    "\n",
    "for i in string: \n",
    "    print(i)"
   ]
  },
  {
   "cell_type": "code",
   "execution_count": 15,
   "metadata": {},
   "outputs": [
    {
     "name": "stdout",
     "output_type": "stream",
     "text": [
      "['S', 't', 'o', 'p', 'h', 'o', 'n', 's', 'o', 'n', 's', 't', 'r', 'a', 'ß', 'o']\n['H', 'o', 'r', 'b', 'o', 'r', 't']\n['H', 'o', 'r', 'b', 'o', 'r', 't']\n"
     ]
    }
   ],
   "source": [
    "def replace_e(string):\n",
    "    new_string = []\n",
    "    for i in string: \n",
    "        temp = str(i)\n",
    "        if i == \"e\":\n",
    "            new_string.append('o')\n",
    "        else: \n",
    "            new_string.append(i)\n",
    "    print(new_string)\n",
    "replace_e(string)\n",
    "\n",
    "replace_e(string=\"Herbert\")\n",
    "replace_e(\"Herbert\")"
   ]
  },
  {
   "cell_type": "code",
   "execution_count": 16,
   "metadata": {},
   "outputs": [
    {
     "data": {
      "text/plain": [
       "'Stophonsonstraßo'"
      ]
     },
     "execution_count": 16,
     "metadata": {},
     "output_type": "execute_result"
    }
   ],
   "source": [
    "def replacer(string): #define the function with a parameter (which will be whatever string you want)\n",
    "    newlist = [] #create a new list which will be the output\n",
    "    strlist = list(string) #create a list of each character in the input string\n",
    "    for item in strlist: #iterate through the items in the list of string characters\n",
    "        if item == 'e': # this line and the next 7 lines check what the letter is and writes the letter you want to the new list\n",
    "            newlist.append('o')\n",
    "        else: \n",
    "            newlist.append(item)\n",
    "    return ''.join(newlist) #output the new list as a string\n",
    "\n",
    "replacer(string) #call the function with the string as a parameter"
   ]
  },
  {
   "cell_type": "markdown",
   "metadata": {},
   "source": [
    "Break-Statement <br>\n",
    "\n",
    "\n",
    "Stoppe den Loop bevor er durch alle Elemente iteriert"
   ]
  },
  {
   "cell_type": "code",
   "execution_count": 17,
   "metadata": {},
   "outputs": [
    {
     "name": "stdout",
     "output_type": "stream",
     "text": [
      "S\nt\n"
     ]
    }
   ],
   "source": [
    "for i in string: \n",
    "    if i == \"e\":\n",
    "        break\n",
    "    print(i)"
   ]
  },
  {
   "cell_type": "markdown",
   "metadata": {},
   "source": [
    "Continue-Statement <br>\n",
    "\n",
    "Überspringt die aktuelle Iteration und macht mit der Nächsten weiter"
   ]
  },
  {
   "cell_type": "code",
   "execution_count": 18,
   "metadata": {},
   "outputs": [
    {
     "name": "stdout",
     "output_type": "stream",
     "text": [
      "S\nt\np\nh\nn\ns\no\nn\ns\nt\nr\na\nß\n"
     ]
    }
   ],
   "source": [
    "for i in string: \n",
    "    if i == \"e\": \n",
    "        continue\n",
    "    print(i)"
   ]
  },
  {
   "cell_type": "markdown",
   "metadata": {},
   "source": [
    "Range-Funktion:"
   ]
  },
  {
   "cell_type": "code",
   "execution_count": 19,
   "metadata": {},
   "outputs": [
    {
     "name": "stdout",
     "output_type": "stream",
     "text": [
      "0\n1\n2\n3\n4\n5\n6\n7\n8\n9\n\n\n4\n5\n6\n7\n8\n9\n\n\n4\n6\n8\n"
     ]
    }
   ],
   "source": [
    "for i in range(10):\n",
    "    print(i)\n",
    "    \n",
    "    \n",
    "print(\"\\n\")\n",
    "    \n",
    "    \n",
    "\n",
    "for i in range(4, 10):\n",
    "    print(i)\n",
    "    \n",
    "print(\"\\n\")\n",
    "    \n",
    "for i in range(4, 10, 2):\n",
    "    print(i)"
   ]
  },
  {
   "cell_type": "markdown",
   "metadata": {},
   "source": [
    "**Kleine Aufgabe für's nächste Treffen:** <br>\n",
    "\n",
    "Write a Python program which iterates the integers from 1 to 50. For multiples of three print \"Fizz\" instead of the number and for the multiples of five print \"Buzz\". For numbers which are multiples of both three and five print \"FizzBuzz\"."
   ]
  },
  {
   "cell_type": "code",
   "execution_count": 20,
   "metadata": {},
   "outputs": [
    {
     "name": "stdout",
     "output_type": "stream",
     "text": [
      "fizzbuzz\n1\n2\nfizz\n4\nbuzz\nfizz\n7\n8\nfizz\nbuzz\n11\nfizz\n13\n14\nfizzbuzz\n16\n17\nfizz\n19\nbuzz\nfizz\n22\n23\nfizz\nbuzz\n26\nfizz\n28\n29\nfizzbuzz\n31\n32\nfizz\n34\nbuzz\nfizz\n37\n38\nfizz\nbuzz\n41\nfizz\n43\n44\nfizzbuzz\n46\n47\nfizz\n49\nbuzz\n"
     ]
    }
   ],
   "source": [
    "for fizzbuzz in range(51):\n",
    "    if fizzbuzz % 3 == 0 and fizzbuzz % 5 == 0:\n",
    "        print(\"fizzbuzz\")\n",
    "        continue\n",
    "    elif fizzbuzz % 3 == 0:\n",
    "        print(\"fizz\")\n",
    "        continue\n",
    "    elif fizzbuzz % 5 == 0:\n",
    "        print(\"buzz\")\n",
    "        continue\n",
    "    print(fizzbuzz)"
   ]
  },
  {
   "cell_type": "code",
   "execution_count": 77,
   "metadata": {},
   "outputs": [],
   "source": [
    "# Jetzt etwas spannendes \n",
    "\n",
    "import matplotlib.pyplot as plt\n",
    "import random\n",
    "\n",
    "\n",
    "\n",
    "\n",
    "class I_Love_Classes():\n",
    "    \n",
    "    def __init__(self):\n",
    "        self.i = None\n",
    "        self.j = None\n",
    "\n",
    "    def create(self, i,j):\n",
    "        self.i = i\n",
    "        self.j = j\n",
    "    \n",
    "    def mod_true_false(self,i,j):\n",
    "        self.i = i\n",
    "        self.j = j\n",
    "        if i % j == 0:\n",
    "            return 0\n",
    "        else:\n",
    "            return 1\n",
    "        \n",
    "    def addition(self, i, j):\n",
    "        self.i = i\n",
    "        self.j = j\n",
    "        return i + j\n",
    "    \n",
    "    def plot(self):\n",
    "        plt.plot(self.i,self.j)\n",
    "        plt.show()\n",
    "    \n",
    "\n",
    "dm = I_Love_Classes()\n",
    "\n",
    "dm.create(range(1,10),range(20,29))\n",
    "dm.plot()"
   ]
  },
  {
   "cell_type": "code",
   "execution_count": 47,
   "metadata": {},
   "outputs": [],
   "source": []
  },
  {
   "cell_type": "code",
   "execution_count": null,
   "metadata": {},
   "outputs": [],
   "source": []
  }
 ],
 "metadata": {
  "kernelspec": {
   "display_name": "Python 3",
   "language": "python",
   "name": "python3"
  },
  "language_info": {
   "codemirror_mode": {
    "name": "ipython",
    "version": 3
   },
   "file_extension": ".py",
   "mimetype": "text/x-python",
   "name": "python",
   "nbconvert_exporter": "python",
   "pygments_lexer": "ipython3",
   "version": "3.7.4"
  }
 },
 "nbformat": 4,
 "nbformat_minor": 2
}
